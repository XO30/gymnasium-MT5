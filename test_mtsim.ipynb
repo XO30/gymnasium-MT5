{
 "cells": [
  {
   "cell_type": "code",
   "id": "initial_id",
   "metadata": {
    "collapsed": true,
    "ExecuteTime": {
     "end_time": "2024-05-06T18:42:08.345243Z",
     "start_time": "2024-05-06T18:42:08.340678Z"
    }
   },
   "source": [
    "import pytz\n",
    "from datetime import datetime, timedelta\n",
    "from gym_mtsim import MtSimulator, OrderType, Timeframe"
   ],
   "outputs": [],
   "execution_count": 6
  },
  {
   "cell_type": "code",
   "source": [
    "sim = MtSimulator(\n",
    "    unit='USD',\n",
    "    balance=10000.,\n",
    "    leverage=100.,\n",
    "    stop_out_level=0.2,\n",
    "    hedge=False,\n",
    ")\n",
    "\n",
    "if not sim.load_symbols('data/mtsim_test'):\n",
    "    sim.download_data(\n",
    "        symbols=['EURUSD', 'GBPCAD', 'GBPUSD', 'USDCAD', 'USDCHF', 'GBPJPY', 'USDJPY'],\n",
    "        time_range=(\n",
    "            datetime(2021, 5, 5, tzinfo=pytz.UTC),\n",
    "            datetime(2021, 9, 5, tzinfo=pytz.UTC)\n",
    "        ),\n",
    "        timeframe=Timeframe.D1\n",
    "    )\n",
    "    sim.save_symbols('data/mtsim_test')"
   ],
   "metadata": {
    "collapsed": false,
    "ExecuteTime": {
     "end_time": "2024-05-06T18:42:13.599427Z",
     "start_time": "2024-05-06T18:42:13.591147Z"
    }
   },
   "id": "4a4e3884b454df97",
   "outputs": [],
   "execution_count": 7
  },
  {
   "cell_type": "code",
   "source": [
    "sim.current_time = datetime(2021, 8, 30, 0, 17, 52, tzinfo=pytz.UTC)\n",
    "\n",
    "order1 = sim.create_order(\n",
    "    order_type=OrderType.Buy,\n",
    "    symbol='GBPCAD',\n",
    "    volume=1.,\n",
    "    fee=0.0003,\n",
    ")\n",
    "\n",
    "sim.tick(timedelta(days=2))\n",
    "\n",
    "order2 = sim.create_order(\n",
    "    order_type=OrderType.Sell,\n",
    "    symbol='USDJPY',\n",
    "    volume=2.,\n",
    "    fee=0.01,\n",
    ")\n",
    "\n",
    "sim.tick(timedelta(days=5))\n",
    "\n",
    "state = sim.get_state()\n",
    "\n",
    "print(\n",
    "    f\"balance: {state['balance']}, equity: {state['equity']}, margin: {state['margin']}\\n\"\n",
    "    f\"free_margin: {state['free_margin']}, margin_level: {state['margin_level']}\\n\"\n",
    ")\n",
    "state['orders']"
   ],
   "metadata": {
    "collapsed": false,
    "ExecuteTime": {
     "end_time": "2024-05-06T18:42:26.654850Z",
     "start_time": "2024-05-06T18:42:26.628489Z"
    }
   },
   "id": "bcb6356f488bbbc0",
   "outputs": [
    {
     "name": "stdout",
     "output_type": "stream",
     "text": [
      "balance: 10000.0, equity: 10584.704006595719, margin: 3375.589051963507\n",
      "free_margin: 7209.114954632212, margin_level: 3.135661315267152\n",
      "\n"
     ]
    },
    {
     "data": {
      "text/plain": [
       "   Id  Symbol  Type  Volume                Entry Time  Entry Price  \\\n",
       "0   2  USDJPY  Sell     2.0 2021-09-01 00:17:52+00:00    109.93200   \n",
       "1   1  GBPCAD   Buy     1.0 2021-08-30 00:17:52+00:00      1.73393   \n",
       "\n",
       "                  Exit Time  Exit Price      Profit       Margin     Fee  \\\n",
       "0 2021-09-06 00:17:52+00:00   109.70900  388.299957  2000.000000  0.0100   \n",
       "1 2021-09-06 00:17:52+00:00     1.73669  196.404049  1375.589052  0.0003   \n",
       "\n",
       "   Closed  \n",
       "0   False  \n",
       "1   False  "
      ],
      "text/html": [
       "<div>\n",
       "<style scoped>\n",
       "    .dataframe tbody tr th:only-of-type {\n",
       "        vertical-align: middle;\n",
       "    }\n",
       "\n",
       "    .dataframe tbody tr th {\n",
       "        vertical-align: top;\n",
       "    }\n",
       "\n",
       "    .dataframe thead th {\n",
       "        text-align: right;\n",
       "    }\n",
       "</style>\n",
       "<table border=\"1\" class=\"dataframe\">\n",
       "  <thead>\n",
       "    <tr style=\"text-align: right;\">\n",
       "      <th></th>\n",
       "      <th>Id</th>\n",
       "      <th>Symbol</th>\n",
       "      <th>Type</th>\n",
       "      <th>Volume</th>\n",
       "      <th>Entry Time</th>\n",
       "      <th>Entry Price</th>\n",
       "      <th>Exit Time</th>\n",
       "      <th>Exit Price</th>\n",
       "      <th>Profit</th>\n",
       "      <th>Margin</th>\n",
       "      <th>Fee</th>\n",
       "      <th>Closed</th>\n",
       "    </tr>\n",
       "  </thead>\n",
       "  <tbody>\n",
       "    <tr>\n",
       "      <th>0</th>\n",
       "      <td>2</td>\n",
       "      <td>USDJPY</td>\n",
       "      <td>Sell</td>\n",
       "      <td>2.0</td>\n",
       "      <td>2021-09-01 00:17:52+00:00</td>\n",
       "      <td>109.93200</td>\n",
       "      <td>2021-09-06 00:17:52+00:00</td>\n",
       "      <td>109.70900</td>\n",
       "      <td>388.299957</td>\n",
       "      <td>2000.000000</td>\n",
       "      <td>0.0100</td>\n",
       "      <td>False</td>\n",
       "    </tr>\n",
       "    <tr>\n",
       "      <th>1</th>\n",
       "      <td>1</td>\n",
       "      <td>GBPCAD</td>\n",
       "      <td>Buy</td>\n",
       "      <td>1.0</td>\n",
       "      <td>2021-08-30 00:17:52+00:00</td>\n",
       "      <td>1.73393</td>\n",
       "      <td>2021-09-06 00:17:52+00:00</td>\n",
       "      <td>1.73669</td>\n",
       "      <td>196.404049</td>\n",
       "      <td>1375.589052</td>\n",
       "      <td>0.0003</td>\n",
       "      <td>False</td>\n",
       "    </tr>\n",
       "  </tbody>\n",
       "</table>\n",
       "</div>"
      ]
     },
     "execution_count": 8,
     "metadata": {},
     "output_type": "execute_result"
    }
   ],
   "execution_count": 8
  },
  {
   "cell_type": "code",
   "source": [
    "order1_profit = sim.close_order(order1)\n",
    "order2_profit = sim.close_order(order2)\n",
    "\n",
    "# alternatively:\n",
    "# for order in sim.orders:\n",
    "#     sim.close_order(order)\n",
    "\n",
    "state = sim.get_state()\n",
    "\n",
    "print(\n",
    "    f\"balance: {state['balance']}, equity: {state['equity']}, margin: {state['margin']}\\n\"\n",
    "    f\"free_margin: {state['free_margin']}, margin_level: {state['margin_level']}\\n\"\n",
    ")\n",
    "state['orders']"
   ],
   "metadata": {
    "collapsed": false,
    "ExecuteTime": {
     "end_time": "2024-05-06T18:42:28.741314Z",
     "start_time": "2024-05-06T18:42:28.725669Z"
    }
   },
   "id": "f18867547ccf59cd",
   "outputs": [
    {
     "name": "stdout",
     "output_type": "stream",
     "text": [
      "balance: 10584.704006595719, equity: 10584.704006595719, margin: 2.2737367544323206e-13\n",
      "free_margin: 10584.704006595719, margin_level: inf\n",
      "\n"
     ]
    },
    {
     "data": {
      "text/plain": [
       "   Id  Symbol  Type  Volume                Entry Time  Entry Price  \\\n",
       "0   2  USDJPY  Sell     2.0 2021-09-01 00:17:52+00:00    109.93200   \n",
       "1   1  GBPCAD   Buy     1.0 2021-08-30 00:17:52+00:00      1.73393   \n",
       "\n",
       "                  Exit Time  Exit Price      Profit       Margin     Fee  \\\n",
       "0 2021-09-06 00:17:52+00:00   109.70900  388.299957  2000.000000  0.0100   \n",
       "1 2021-09-06 00:17:52+00:00     1.73669  196.404049  1375.589052  0.0003   \n",
       "\n",
       "   Closed  \n",
       "0    True  \n",
       "1    True  "
      ],
      "text/html": [
       "<div>\n",
       "<style scoped>\n",
       "    .dataframe tbody tr th:only-of-type {\n",
       "        vertical-align: middle;\n",
       "    }\n",
       "\n",
       "    .dataframe tbody tr th {\n",
       "        vertical-align: top;\n",
       "    }\n",
       "\n",
       "    .dataframe thead th {\n",
       "        text-align: right;\n",
       "    }\n",
       "</style>\n",
       "<table border=\"1\" class=\"dataframe\">\n",
       "  <thead>\n",
       "    <tr style=\"text-align: right;\">\n",
       "      <th></th>\n",
       "      <th>Id</th>\n",
       "      <th>Symbol</th>\n",
       "      <th>Type</th>\n",
       "      <th>Volume</th>\n",
       "      <th>Entry Time</th>\n",
       "      <th>Entry Price</th>\n",
       "      <th>Exit Time</th>\n",
       "      <th>Exit Price</th>\n",
       "      <th>Profit</th>\n",
       "      <th>Margin</th>\n",
       "      <th>Fee</th>\n",
       "      <th>Closed</th>\n",
       "    </tr>\n",
       "  </thead>\n",
       "  <tbody>\n",
       "    <tr>\n",
       "      <th>0</th>\n",
       "      <td>2</td>\n",
       "      <td>USDJPY</td>\n",
       "      <td>Sell</td>\n",
       "      <td>2.0</td>\n",
       "      <td>2021-09-01 00:17:52+00:00</td>\n",
       "      <td>109.93200</td>\n",
       "      <td>2021-09-06 00:17:52+00:00</td>\n",
       "      <td>109.70900</td>\n",
       "      <td>388.299957</td>\n",
       "      <td>2000.000000</td>\n",
       "      <td>0.0100</td>\n",
       "      <td>True</td>\n",
       "    </tr>\n",
       "    <tr>\n",
       "      <th>1</th>\n",
       "      <td>1</td>\n",
       "      <td>GBPCAD</td>\n",
       "      <td>Buy</td>\n",
       "      <td>1.0</td>\n",
       "      <td>2021-08-30 00:17:52+00:00</td>\n",
       "      <td>1.73393</td>\n",
       "      <td>2021-09-06 00:17:52+00:00</td>\n",
       "      <td>1.73669</td>\n",
       "      <td>196.404049</td>\n",
       "      <td>1375.589052</td>\n",
       "      <td>0.0003</td>\n",
       "      <td>True</td>\n",
       "    </tr>\n",
       "  </tbody>\n",
       "</table>\n",
       "</div>"
      ]
     },
     "execution_count": 9,
     "metadata": {},
     "output_type": "execute_result"
    }
   ],
   "execution_count": 9
  },
  {
   "cell_type": "code",
   "source": [
    "sim.symbols_info['EURUSD'].currencies"
   ],
   "metadata": {
    "collapsed": false,
    "ExecuteTime": {
     "end_time": "2024-05-06T18:42:29.959992Z",
     "start_time": "2024-05-06T18:42:29.954424Z"
    }
   },
   "id": "de59cde7bda5937d",
   "outputs": [
    {
     "data": {
      "text/plain": [
       "('USD', 'EUR')"
      ]
     },
     "execution_count": 10,
     "metadata": {},
     "output_type": "execute_result"
    }
   ],
   "execution_count": 10
  }
 ],
 "metadata": {
  "kernelspec": {
   "display_name": "Python 3",
   "language": "python",
   "name": "python3"
  },
  "language_info": {
   "codemirror_mode": {
    "name": "ipython",
    "version": 2
   },
   "file_extension": ".py",
   "mimetype": "text/x-python",
   "name": "python",
   "nbconvert_exporter": "python",
   "pygments_lexer": "ipython2",
   "version": "2.7.6"
  }
 },
 "nbformat": 4,
 "nbformat_minor": 5
}
